{
 "cells": [
  {
   "cell_type": "markdown",
   "id": "8bf13e2c",
   "metadata": {},
   "source": [
    "# Template Jupyter Notebook. Copy or create your own called 'local.ipynb' to edit."
   ]
  },
  {
   "cell_type": "code",
   "execution_count": 1,
   "id": "b85af6dd-3f3d-4f2e-84dd-3dca0698e2ec",
   "metadata": {},
   "outputs": [],
   "source": [
    "# Reset Database (delete file, create it with Session import.) \n",
    "# !!!Make sure to restart kernel before executing!!!\n",
    "\n",
    "import os\n",
    "\n",
    "try:\n",
    "    os.remove(r\".\\loremaster_app\\instance\\loremaster.db\")\n",
    "except:\n",
    "    print('No db file to remove')\n",
    "\n",
    "from loremaster_app.database.init_db import Session"
   ]
  },
  {
   "cell_type": "code",
   "execution_count": 2,
   "id": "cd419fb7-d628-482b-9913-6170b0d41e80",
   "metadata": {},
   "outputs": [],
   "source": [
    "# Import database types, create mock data\n",
    "from loremaster_app.database.table_declarations import *\n",
    "from loremaster_app.database.init_db import Session\n",
    "from loremaster_app.blueprints.auth import encrypt\n",
    "\n",
    "meowser = User(username=\"Meowser\", password=encrypt('Test_pa$$_1'), first_name='Fluffy', last_name='Cattington', email='test@gmail.com', admin_status=False)\n",
    "loc = Location(owner=meowser, name=\"Home\")\n",
    "character = Character(meowser, name='Meowington the Second')\n",
    "\n",
    "familiar = Familiar(owner=meowser, name=\"Kitty\")\n",
    "familiar.character_owners.append(character)\n",
    "\n",
    "guild = Guild(owner=meowser, name='The Cat Guild')\n",
    "trait = Trait('Flurry of Swipes')\n",
    "inventory = Inventory(owner=meowser, name='Knapsack')"
   ]
  },
  {
   "cell_type": "code",
   "execution_count": 3,
   "id": "6220fae3-5358-4f48-b0fc-334defafe26e",
   "metadata": {},
   "outputs": [],
   "source": [
    "# Example db insert\n",
    "from loremaster_app.database.init_db import Session\n",
    "from sqlalchemy import select\n",
    "\n",
    "with Session.begin() as session:\n",
    "    session.add(meowser)"
   ]
  },
  {
   "cell_type": "code",
   "execution_count": null,
   "id": "0dd80aba",
   "metadata": {},
   "outputs": [],
   "source": []
  }
 ],
 "metadata": {
  "kernelspec": {
   "display_name": "Python 3.10.4 ('.venv': venv)",
   "language": "python",
   "name": "python3"
  },
  "language_info": {
   "codemirror_mode": {
    "name": "ipython",
    "version": 3
   },
   "file_extension": ".py",
   "mimetype": "text/x-python",
   "name": "python",
   "nbconvert_exporter": "python",
   "pygments_lexer": "ipython3",
   "version": "3.10.4"
  },
  "vscode": {
   "interpreter": {
    "hash": "4288debe613c587f7a90c52dab69655e37c1754619b9c7b01eb34b09d4613f84"
   }
  }
 },
 "nbformat": 4,
 "nbformat_minor": 5
}
