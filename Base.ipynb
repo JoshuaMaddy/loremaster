{
 "cells": [
  {
   "cell_type": "markdown",
   "id": "8bf13e2c",
   "metadata": {},
   "source": [
    "# Template Jupyter Notebook. Copy or create your own called 'local.ipynb' to edit."
   ]
  },
  {
   "cell_type": "code",
   "execution_count": 1,
   "id": "b85af6dd-3f3d-4f2e-84dd-3dca0698e2ec",
   "metadata": {},
   "outputs": [],
   "source": [
    "# Reset Database (delete file, create it with Session import.) \n",
    "# !!!Make sure to restart kernel before executing!!!\n",
    "\n",
    "import os\n",
    "\n",
    "try:\n",
    "    os.remove(r\".\\loremaster_app\\instance\\loremaster.db\")\n",
    "except:\n",
    "    print('No db file to remove')\n",
    "\n",
    "from loremaster_app.database.init_db import Session"
   ]
  },
  {
   "cell_type": "code",
   "execution_count": 2,
   "id": "cd419fb7-d628-482b-9913-6170b0d41e80",
   "metadata": {},
   "outputs": [],
   "source": [
    "# Import database types, create mock data\n",
    "from loremaster_app.database.table_declarations import *\n",
    "from loremaster_app.database.init_db import Session\n",
    "from loremaster_app.blueprints.auth import encrypt\n",
    "\n",
    "meowser = User(username=\"Meowser\", password=encrypt('Test_pa$$_1'), first_name='Fluffy', last_name='Cattington', email='test@gmail.com', admin_status=True, banned_status=False)\n",
    "bowser = User(username=\"Bowser\", password=encrypt('mario_1234%'), first_name='Bowser', last_name='Bowser', email='test@nintendo.com', admin_status=False, banned_status=False)\n",
    "doggy = User(username=\"Doggy\", password=encrypt('Test_pa$$_2'), first_name='Casey', last_name='McDog', email='test2@gmail.com', admin_status=True, banned_status=False)\n",
    "turtle = User(username=\"Mr.Turtle\", password=encrypt('Test_pa$$_3'), first_name='Turtle', last_name='McTurtleson', email='test3@gmail.com', admin_status=False, banned_status=False)\n",
    "jojo = User(username=\"Jojo\", password=encrypt('Test_pa$$_4'), first_name='Jonathan', last_name='Joestar', email='Jojo@gmail.com', admin_status=False, banned_status=True)\n",
    "\n",
    "loc = Location(owner=meowser, name=\"Home\")\n",
    "loc2 = Location(owner=doggy, name=\"Charleston\")\n",
    "loc3 = Location(owner=bowser, name=\"Mushroom Kingdom\")\n",
    "loc4 = Location(owner=turtle, name=\"Huntington\")\n",
    "loc5 = Location(owner=jojo, name=\"England\")\n",
    "\n",
    "meowser_character = Character(meowser, name='Meowington the Second')\n",
    "meowser_character.location = loc\n",
    "meowser_character.visibility = Visibilites.public\n",
    "\n",
    "doggy_character = Character(doggy, name='Robin Greenwill')\n",
    "doggy_character.location = loc2\n",
    "doggy_character.visibility = Visibilites.public\n",
    "\n",
    "bowser_character = Character(bowser, name='Bowser')\n",
    "bowser_character.location = loc3\n",
    "bowser_character.visibility = Visibilites.public\n",
    "\n",
    "turtle_character = Character(turtle, name='Binshu Rocksalt')\n",
    "turtle_character.location = loc4 \n",
    "turtle_character.visibility = Visibilites.private #Only private visibility as a test\n",
    "\n",
    "jojo_character = Character(jojo, name='Joseph Joestar')\n",
    "jojo_character.location = loc5\n",
    "jojo_character.visibility = Visibilites.public\n",
    "\n",
    "familiar = Familiar(owner=meowser, name=\"Kitty\")\n",
    "familiar2 = Familiar(owner=meowser, name=\"Charlie\")\n",
    "familiar3 = Familiar(owner=bowser, name=\"Luigi\")\n",
    "familiar4 = Familiar(owner=doggy, name=\"Sammy\")\n",
    "familiar5 = Familiar(owner=turtle, name=\"Mini Turtle\")\n",
    "familiar6 = Familiar(owner=jojo, name=\"Jotaro\")\n",
    "\n",
    "# Two different ways of creating a character/familiar relationship\n",
    "familiar.owners.append(meowser_character)\n",
    "familiar3.owners.append(bowser_character)\n",
    "familiar4.owners.append(doggy_character)\n",
    "familiar5.owners.append(turtle_character)\n",
    "familiar6.owners.append(jojo_character)\n",
    "meowser_character.familiars.append(familiar2)\n",
    "\n",
    "guild = Guild(owner=meowser, name='The Cat Guild')\n",
    "guild2 = Guild(owner=bowser, name='Nintendo Guild')\n",
    "guild3 = Guild(owner=doggy, name='The Dog Guild')\n",
    "guild4 = Guild(owner=turtle, name='The Turtle Guild')\n",
    "guild5 = Guild(owner=jojo, name='The Joestar Family')\n",
    "trait = Trait('Flurry of Swipes')\n",
    "trait2 = Trait('Second trait')\n",
    "trait3 = Trait('Fire Breath')\n",
    "trait4 = Trait('Goodest of Dogs')\n",
    "trait5 = Trait('Shell')\n",
    "trait6 = Trait('Hamon')\n",
    "stat = Stat(name='stat name', short_description='stat desc.')\n",
    "\n",
    "meowser_character.traits.append(trait)\n",
    "meowser_character.traits.append(trait2)\n",
    "meowser_character.stats.append(stat)\n",
    "bowser_character.traits.append(trait3)\n",
    "doggy_character.traits.append(trait4)\n",
    "turtle_character.traits.append(trait5)\n",
    "jojo_character.traits.append(trait6)\n",
    "\n",
    "inventory = Inventory(owner=meowser, name='Knapsack')"
   ]
  },
  {
   "cell_type": "code",
   "execution_count": 3,
   "id": "6220fae3-5358-4f48-b0fc-334defafe26e",
   "metadata": {},
   "outputs": [
    {
     "name": "stderr",
     "output_type": "stream",
     "text": [
      "C:\\Users\\Custome\\AppData\\Local\\Programs\\Python\\Python310\\lib\\contextlib.py:142: SAWarning: Cannot correctly sort tables; there are unresolvable cycles between tables \"character, guild\", which is usually caused by mutually dependent foreign key constraints.  Foreign key constraints involving these tables will not be considered; this warning may raise an error in a future release.\n",
      "  next(self.gen)\n"
     ]
    }
   ],
   "source": [
    "# Example db insert\n",
    "from loremaster_app.database.init_db import Session\n",
    "from loremaster_app.database.table_declarations import *\n",
    "from sqlalchemy import select\n",
    "\n",
    "with Session.begin() as session:\n",
    "    session.add(meowser)\n",
    "    session.add(bowser)\n",
    "    session.add(doggy)\n",
    "    session.add(turtle)\n",
    "    session.add(jojo)"
   ]
  },
  {
   "cell_type": "code",
   "execution_count": null,
   "id": "7d48d4f2",
   "metadata": {},
   "outputs": [],
   "source": []
  }
 ],
 "metadata": {
  "kernelspec": {
   "display_name": "Python 3.10.1 ('.venv': venv)",
   "language": "python",
   "name": "python3"
  },
  "language_info": {
   "codemirror_mode": {
    "name": "ipython",
    "version": 3
   },
   "file_extension": ".py",
   "mimetype": "text/x-python",
   "name": "python",
   "nbconvert_exporter": "python",
   "pygments_lexer": "ipython3",
   "version": "3.10.1"
  },
  "vscode": {
   "interpreter": {
    "hash": "5b4fc78f4389034e8fde1c95414a3701fa5ddb5053dd68caa9e0c9ff1d6340ec"
   }
  }
 },
 "nbformat": 4,
 "nbformat_minor": 5
}
