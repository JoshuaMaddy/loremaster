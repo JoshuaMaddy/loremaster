{
 "cells": [
  {
   "cell_type": "markdown",
   "id": "8bf13e2c",
   "metadata": {},
   "source": [
    "# Template Jupyter Notebook. Copy or create your own called 'local.ipynb' to edit."
   ]
  },
  {
   "cell_type": "code",
   "execution_count": 1,
   "id": "b85af6dd-3f3d-4f2e-84dd-3dca0698e2ec",
   "metadata": {},
   "outputs": [
    {
     "name": "stdout",
     "output_type": "stream",
     "text": [
      "c:\\Users\\39008\\Documents\\.school\\CS 305\\loremaster\n"
     ]
    }
   ],
   "source": [
    "# Reset Database (delete file, create it with Session import.) \n",
    "# !!!Make sure to restart kernel before executing!!!\n",
    "\n",
    "import os\n",
    "\n",
    "try:\n",
    "    os.remove(r\".\\loremaster_app\\instance\\loremaster.db\")\n",
    "except:\n",
    "    print('No db file to remove')\n",
    "\n",
    "from loremaster_app.database.init_db import Session"
   ]
  },
  {
   "cell_type": "code",
   "execution_count": 6,
   "id": "cd419fb7-d628-482b-9913-6170b0d41e80",
   "metadata": {},
   "outputs": [],
   "source": [
    "# Import database types, create mock data\n",
    "from loremaster_app.database.table_declarations import *\n",
    "\n",
    "user1 = User(username=\"meow\", password=b'10101', first_name='Fluffy', last_name='meowser', email='a/wkjbdghjsad', admin_status=False)\n",
    "loc = Location(owner=user1, name=\"location1\")\n",
    "familiar = Familiar(owner=user1, name=\"uwu\")\n",
    "character = Character(user1, 'testchar')\n",
    "guild = Guild(user1, 'test_guild')\n",
    "trait = Trait('test_trait')\n",
    "inventory = Inventory(owner=user1, name='Knapsack')"
   ]
  },
  {
   "cell_type": "code",
   "execution_count": null,
   "id": "6220fae3-5358-4f48-b0fc-334defafe26e",
   "metadata": {},
   "outputs": [],
   "source": [
    "# Example search\n",
    "from sqlalchemy import select\n",
    "\n",
    "with Session.begin() as session:\n",
    "    location = session.execute(select(Location)).scalars().first()\n",
    "    \n",
    "    print(location)"
   ]
  }
 ],
 "metadata": {
  "kernelspec": {
   "display_name": "Python 3.10.4 ('.venv': venv)",
   "language": "python",
   "name": "python3"
  },
  "language_info": {
   "codemirror_mode": {
    "name": "ipython",
    "version": 3
   },
   "file_extension": ".py",
   "mimetype": "text/x-python",
   "name": "python",
   "nbconvert_exporter": "python",
   "pygments_lexer": "ipython3",
   "version": "3.10.4"
  },
  "vscode": {
   "interpreter": {
    "hash": "4288debe613c587f7a90c52dab69655e37c1754619b9c7b01eb34b09d4613f84"
   }
  }
 },
 "nbformat": 4,
 "nbformat_minor": 5
}
