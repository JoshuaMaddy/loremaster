{
 "cells": [
  {
   "cell_type": "markdown",
   "id": "8bf13e2c",
   "metadata": {},
   "source": [
    "# Template Jupyter Notebook. Copy or create your own called 'local.ipynb' to edit."
   ]
  },
  {
   "cell_type": "code",
   "execution_count": 1,
   "id": "b85af6dd-3f3d-4f2e-84dd-3dca0698e2ec",
   "metadata": {},
   "outputs": [],
   "source": [
    "# Reset Database (delete file, create it with Session import.) \n",
    "# !!!Make sure to restart kernel before executing!!!\n",
    "\n",
    "import os\n",
    "\n",
    "try:\n",
    "    os.remove(r\".\\loremaster_app\\instance\\loremaster.db\")\n",
    "except:\n",
    "    print('No db file to remove')\n",
    "\n",
    "from loremaster_app.database.init_db import Session"
   ]
  },
  {
   "cell_type": "code",
   "execution_count": 2,
   "id": "cd419fb7-d628-482b-9913-6170b0d41e80",
   "metadata": {},
   "outputs": [
    {
     "ename": "TypeError",
     "evalue": "Incompatible collection type: Guild is not list-like",
     "output_type": "error",
     "traceback": [
      "\u001b[1;31m---------------------------------------------------------------------------\u001b[0m",
      "\u001b[1;31mTypeError\u001b[0m                                 Traceback (most recent call last)",
      "Cell \u001b[1;32mIn [2], line 32\u001b[0m\n\u001b[0;32m     30\u001b[0m meowser_character\u001b[38;5;241m.\u001b[39mtraits\u001b[38;5;241m.\u001b[39mappend(trait2)\n\u001b[0;32m     31\u001b[0m meowser_character\u001b[38;5;241m.\u001b[39mstats\u001b[38;5;241m.\u001b[39mappend(stat)\n\u001b[1;32m---> 32\u001b[0m meowser_character\u001b[38;5;241m.\u001b[39mguild \u001b[38;5;241m=\u001b[39m guild\n\u001b[0;32m     34\u001b[0m inventory \u001b[38;5;241m=\u001b[39m Inventory(owner\u001b[38;5;241m=\u001b[39mmeowser, name\u001b[38;5;241m=\u001b[39m\u001b[38;5;124m'\u001b[39m\u001b[38;5;124mKnapsack\u001b[39m\u001b[38;5;124m'\u001b[39m)\n",
      "File \u001b[1;32m~\\Documents\\.school\\CS 305\\loremaster\\.venv\\lib\\site-packages\\sqlalchemy\\orm\\attributes.py:460\u001b[0m, in \u001b[0;36mInstrumentedAttribute.__set__\u001b[1;34m(self, instance, value)\u001b[0m\n\u001b[0;32m    459\u001b[0m \u001b[38;5;28;01mdef\u001b[39;00m \u001b[38;5;21m__set__\u001b[39m(\u001b[38;5;28mself\u001b[39m, instance, value):\n\u001b[1;32m--> 460\u001b[0m     \u001b[38;5;28;43mself\u001b[39;49m\u001b[38;5;241;43m.\u001b[39;49m\u001b[43mimpl\u001b[49m\u001b[38;5;241;43m.\u001b[39;49m\u001b[43mset\u001b[49m\u001b[43m(\u001b[49m\n\u001b[0;32m    461\u001b[0m \u001b[43m        \u001b[49m\u001b[43minstance_state\u001b[49m\u001b[43m(\u001b[49m\u001b[43minstance\u001b[49m\u001b[43m)\u001b[49m\u001b[43m,\u001b[49m\u001b[43m \u001b[49m\u001b[43minstance_dict\u001b[49m\u001b[43m(\u001b[49m\u001b[43minstance\u001b[49m\u001b[43m)\u001b[49m\u001b[43m,\u001b[49m\u001b[43m \u001b[49m\u001b[43mvalue\u001b[49m\u001b[43m,\u001b[49m\u001b[43m \u001b[49m\u001b[38;5;28;43;01mNone\u001b[39;49;00m\n\u001b[0;32m    462\u001b[0m \u001b[43m    \u001b[49m\u001b[43m)\u001b[49m\n",
      "File \u001b[1;32m~\\Documents\\.school\\CS 305\\loremaster\\.venv\\lib\\site-packages\\sqlalchemy\\orm\\attributes.py:1564\u001b[0m, in \u001b[0;36mCollectionAttributeImpl.set\u001b[1;34m(self, state, dict_, value, initiator, passive, check_old, pop, _adapt)\u001b[0m\n\u001b[0;32m   1558\u001b[0m     given \u001b[38;5;241m=\u001b[39m (\n\u001b[0;32m   1559\u001b[0m         iterable \u001b[38;5;129;01mis\u001b[39;00m \u001b[38;5;28;01mNone\u001b[39;00m\n\u001b[0;32m   1560\u001b[0m         \u001b[38;5;129;01mand\u001b[39;00m \u001b[38;5;124m\"\u001b[39m\u001b[38;5;124mNone\u001b[39m\u001b[38;5;124m\"\u001b[39m\n\u001b[0;32m   1561\u001b[0m         \u001b[38;5;129;01mor\u001b[39;00m iterable\u001b[38;5;241m.\u001b[39m\u001b[38;5;18m__class__\u001b[39m\u001b[38;5;241m.\u001b[39m\u001b[38;5;18m__name__\u001b[39m\n\u001b[0;32m   1562\u001b[0m     )\n\u001b[0;32m   1563\u001b[0m     wanted \u001b[38;5;241m=\u001b[39m \u001b[38;5;28mself\u001b[39m\u001b[38;5;241m.\u001b[39m_duck_typed_as\u001b[38;5;241m.\u001b[39m\u001b[38;5;18m__name__\u001b[39m\n\u001b[1;32m-> 1564\u001b[0m     \u001b[38;5;28;01mraise\u001b[39;00m \u001b[38;5;167;01mTypeError\u001b[39;00m(\n\u001b[0;32m   1565\u001b[0m         \u001b[38;5;124m\"\u001b[39m\u001b[38;5;124mIncompatible collection type: \u001b[39m\u001b[38;5;132;01m%s\u001b[39;00m\u001b[38;5;124m is not \u001b[39m\u001b[38;5;132;01m%s\u001b[39;00m\u001b[38;5;124m-like\u001b[39m\u001b[38;5;124m\"\u001b[39m\n\u001b[0;32m   1566\u001b[0m         \u001b[38;5;241m%\u001b[39m (given, wanted)\n\u001b[0;32m   1567\u001b[0m     )\n\u001b[0;32m   1569\u001b[0m \u001b[38;5;66;03m# If the object is an adapted collection, return the (iterable)\u001b[39;00m\n\u001b[0;32m   1570\u001b[0m \u001b[38;5;66;03m# adapter.\u001b[39;00m\n\u001b[0;32m   1571\u001b[0m \u001b[38;5;28;01mif\u001b[39;00m \u001b[38;5;28mhasattr\u001b[39m(iterable, \u001b[38;5;124m\"\u001b[39m\u001b[38;5;124m_sa_iterator\u001b[39m\u001b[38;5;124m\"\u001b[39m):\n",
      "\u001b[1;31mTypeError\u001b[0m: Incompatible collection type: Guild is not list-like"
     ]
    }
   ],
   "source": [
    "# Import database types, create mock data\n",
    "from loremaster_app.database.table_declarations import *\n",
    "from loremaster_app.database.init_db import Session\n",
    "from loremaster_app.blueprints.auth import encrypt\n",
    "\n",
    "meowser = User(username=\"Meowser\", password=encrypt('Test_pa$$_1'), first_name='Fluffy', last_name='Cattington', email='test@gmail.com', admin_status=True)\n",
    "bowser = User(username=\"Bowser\", password=encrypt('mario'), first_name='Bowser', last_name='Bowser', email='test@nintendo.com', admin_status=False)\n",
    "\n",
    "loc = Location(owner=meowser, name=\"Home\")\n",
    "meowser_character = Character(meowser, name='Meowington the Second')\n",
    "meowser_character.location = loc\n",
    "meowser_character.visibility = Visibilites.public\n",
    "\n",
    "bowser_character = Character(bowser, name='Bowser')\n",
    "bowser_character.visibility = Visibilites.public\n",
    "\n",
    "familiar = Familiar(owner=meowser, name=\"Kitty\")\n",
    "familiar2 = Familiar(owner=meowser, name=\"Charlie\")\n",
    "\n",
    "# Two different ways of creating a character/familiar relationship\n",
    "familiar.owners.append(meowser_character)\n",
    "meowser_character.familiars.append(familiar2)\n",
    "\n",
    "guild = Guild(owner=meowser, name='The Cat Guild')\n",
    "trait = Trait('Flurry of Swipes')\n",
    "trait2 = Trait('Second trait')\n",
    "stat = Stat(name='stat name', short_description='stat desc.')\n",
    "\n",
    "meowser_character.traits.append(trait)\n",
    "meowser_character.traits.append(trait2)\n",
    "meowser_character.stats.append(stat)\n",
    "meowser_character.guild.append(guild)\n",
    "\n",
    "inventory = Inventory(owner=meowser, name='Knapsack')"
   ]
  },
  {
   "cell_type": "code",
   "execution_count": 3,
   "id": "6220fae3-5358-4f48-b0fc-334defafe26e",
   "metadata": {},
   "outputs": [],
   "source": [
    "# Example db insert\n",
    "from loremaster_app.database.init_db import Session\n",
    "from loremaster_app.database.table_declarations import *\n",
    "from sqlalchemy import select\n",
    "\n",
    "with Session.begin() as session:\n",
    "    session.add(meowser)\n",
    "    session.add(bowser)"
   ]
  },
  {
   "cell_type": "code",
   "execution_count": null,
   "id": "2fc78e14",
   "metadata": {},
   "outputs": [],
   "source": []
  }
 ],
 "metadata": {
  "kernelspec": {
   "display_name": "loremaster",
   "language": "python",
   "name": "loremaster"
  },
  "language_info": {
   "codemirror_mode": {
    "name": "ipython",
    "version": 3
   },
   "file_extension": ".py",
   "mimetype": "text/x-python",
   "name": "python",
   "nbconvert_exporter": "python",
   "pygments_lexer": "ipython3",
   "version": "3.10.4"
  },
  "vscode": {
   "interpreter": {
    "hash": "ed7a05a57e7b85aae044cda65db19dcdbf3e5d5d3b17ac299224aa60ff5003c7"
   }
  }
 },
 "nbformat": 4,
 "nbformat_minor": 5
}
