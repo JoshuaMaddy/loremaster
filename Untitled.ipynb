{
 "cells": [
  {
   "cell_type": "code",
   "execution_count": 1,
   "id": "b85af6dd-3f3d-4f2e-84dd-3dca0698e2ec",
   "metadata": {},
   "outputs": [],
   "source": [
    "import os\n",
    "try:\n",
    "    os.remove(r\"C:\\Users\\39008\\Documents\\.school\\CS 305\\loremaster\\loremaster_app\\instance\\loremaster.db\")\n",
    "except:\n",
    "    print('no file')\n",
    "from loremaster_app.database.init_db import Session"
   ]
  },
  {
   "cell_type": "code",
   "execution_count": 5,
   "id": "1896e999-7fe1-4462-b75b-1ad43ade0423",
   "metadata": {},
   "outputs": [],
   "source": [
    "with Session.begin() as session:\n",
    "    try:\n",
    "        session.add(user1)\n",
    "        session.add(loc)\n",
    "    except:\n",
    "        print('fail')"
   ]
  },
  {
   "cell_type": "code",
   "execution_count": 2,
   "id": "04f94e56-482c-48b9-bb19-1cb55ffdb23a",
   "metadata": {},
   "outputs": [],
   "source": [
    "from loremaster_app.database.table_declarations import *"
   ]
  },
  {
   "cell_type": "code",
   "execution_count": 3,
   "id": "cd419fb7-d628-482b-9913-6170b0d41e80",
   "metadata": {},
   "outputs": [],
   "source": [
    "user1 = User(username=\"meow\", password=b'10101', first_name='Fluffy', last_name='meowser', email='a/wkjbdghjsad', admin_status=False)\n",
    "loc = Location(owner=user1, name=\"location1\")\n",
    "familiar = Familiar(owner=user1, name=\"uwu\")\n",
    "character = Character(user1, 'testchar')\n",
    "guild = Guild(user1, 'test_guild')\n",
    "trait = Trait('test_trait')"
   ]
  },
  {
   "cell_type": "code",
   "execution_count": 6,
   "id": "35153c12-3cd2-4bc8-9476-390db00d402c",
   "metadata": {},
   "outputs": [
    {
     "data": {
      "text/plain": [
       "[]"
      ]
     },
     "execution_count": 6,
     "metadata": {},
     "output_type": "execute_result"
    }
   ],
   "source": [
    "character.traits"
   ]
  },
  {
   "cell_type": "code",
   "execution_count": 6,
   "id": "471ab8af-5b4a-428b-a839-9f7e32ff683f",
   "metadata": {},
   "outputs": [
    {
     "name": "stdout",
     "output_type": "stream",
     "text": [
      "location\n",
      "familiar\n"
     ]
    }
   ],
   "source": [
    "for element in user1.editor_perms:\n",
    "    print(element.editable.type)"
   ]
  },
  {
   "cell_type": "code",
   "execution_count": 4,
   "id": "9742fc25-c975-4fdd-8c8f-e29d499dd0ec",
   "metadata": {},
   "outputs": [],
   "source": [
    "loc.editors"
   ]
  },
  {
   "cell_type": "code",
   "execution_count": 9,
   "id": "be0af251-19d7-4373-a8a5-c659a8405eae",
   "metadata": {},
   "outputs": [
    {
     "name": "stdout",
     "output_type": "stream",
     "text": [
      "None\n"
     ]
    }
   ],
   "source": [
    "print(loc.editable_id)"
   ]
  },
  {
   "cell_type": "code",
   "execution_count": 33,
   "id": "6220fae3-5358-4f48-b0fc-334defafe26e",
   "metadata": {},
   "outputs": [
    {
     "name": "stdout",
     "output_type": "stream",
     "text": [
      "None\n"
     ]
    }
   ],
   "source": [
    "from sqlalchemy import select\n",
    "user = None\n",
    "with Session.begin() as session:\n",
    "    loc = session.execute(select(Location)).scalars().first()\n",
    "    \n",
    "    print(loc.parent_locations)"
   ]
  },
  {
   "cell_type": "code",
   "execution_count": null,
   "id": "68e3ffff-ec13-4c01-9a36-8db568dac679",
   "metadata": {},
   "outputs": [],
   "source": []
  }
 ],
 "metadata": {
  "kernelspec": {
   "display_name": "Python 3.10.4 ('.venv': venv)",
   "language": "python",
   "name": "python3"
  },
  "language_info": {
   "codemirror_mode": {
    "name": "ipython",
    "version": 3
   },
   "file_extension": ".py",
   "mimetype": "text/x-python",
   "name": "python",
   "nbconvert_exporter": "python",
   "pygments_lexer": "ipython3",
   "version": "3.10.4"
  },
  "vscode": {
   "interpreter": {
    "hash": "4288debe613c587f7a90c52dab69655e37c1754619b9c7b01eb34b09d4613f84"
   }
  }
 },
 "nbformat": 4,
 "nbformat_minor": 5
}
