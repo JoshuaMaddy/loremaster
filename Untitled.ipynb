{
 "cells": [
  {
   "cell_type": "code",
   "execution_count": 1,
   "id": "b85af6dd-3f3d-4f2e-84dd-3dca0698e2ec",
   "metadata": {},
   "outputs": [
    {
     "name": "stdout",
     "output_type": "stream",
     "text": [
      "no file\n"
     ]
    }
   ],
   "source": [
    "import os\n",
    "try:\n",
    "    os.remove(r\"C:\\Users\\39008\\Documents\\.school\\CS 305\\loremaster\\loremaster_app\\instance\\loremaster.db\")\n",
    "except:\n",
    "    print('no file')\n",
    "from loremaster_app.database.init_db import Session"
   ]
  },
  {
   "cell_type": "code",
   "execution_count": 4,
   "id": "1896e999-7fe1-4462-b75b-1ad43ade0423",
   "metadata": {},
   "outputs": [],
   "source": [
    "with Session.begin() as session:\n",
    "    try:\n",
    "        session.add(user1)\n",
    "        session.add(loc)\n",
    "    except:\n",
    "        print('fail')"
   ]
  },
  {
   "cell_type": "code",
   "execution_count": 2,
   "id": "04f94e56-482c-48b9-bb19-1cb55ffdb23a",
   "metadata": {},
   "outputs": [],
   "source": [
    "from loremaster_app.database.table_declarations import *"
   ]
  },
  {
   "cell_type": "code",
   "execution_count": 3,
   "id": "cd419fb7-d628-482b-9913-6170b0d41e80",
   "metadata": {},
   "outputs": [],
   "source": [
    "user1 = User(username=\"meow\", password=b'10101', first_name='Fluffy', last_name='meowser', email='a/wkjbdghjsad', admin_status=False)\n",
    "loc = Location(owner=user1, name=\"location1\")\n",
    "familiar = Familiar(owner=user1, name=\"uwu\")\n",
    "character = Character(user1, 'testchar')\n",
    "guild = Guild(user1, 'test_guild')\n",
    "trait = Trait('test_trait')"
   ]
  },
  {
   "cell_type": "code",
   "execution_count": 19,
   "id": "35153c12-3cd2-4bc8-9476-390db00d402c",
   "metadata": {},
   "outputs": [
    {
     "name": "stdout",
     "output_type": "stream",
     "text": [
      "User(name:testuser, id:1)\n",
      "User(name:user2, id:2)\n"
     ]
    }
   ],
   "source": [
    "from sqlalchemy import select\n",
    "from loremaster_app.database.table_declarations import *\n",
    "from loremaster_app.database.init_db import Session\n",
    "\n",
    "with Session.begin() as session:\n",
    "    user2 = session.execute(select(User)).scalars()\n",
    "    for user in user2:\n",
    "        print(user)"
   ]
  },
  {
   "cell_type": "code",
   "execution_count": 15,
   "id": "471ab8af-5b4a-428b-a839-9f7e32ff683f",
   "metadata": {},
   "outputs": [
    {
     "ename": "DetachedInstanceError",
     "evalue": "Instance <User at 0x217e56305e0> is not bound to a Session; attribute refresh operation cannot proceed (Background on this error at: https://sqlalche.me/e/14/bhk3)",
     "output_type": "error",
     "traceback": [
      "\u001b[1;31m---------------------------------------------------------------------------\u001b[0m",
      "\u001b[1;31mDetachedInstanceError\u001b[0m                     Traceback (most recent call last)",
      "Cell \u001b[1;32mIn [15], line 1\u001b[0m\n\u001b[1;32m----> 1\u001b[0m \u001b[38;5;28mprint\u001b[39m(user2)\n",
      "File \u001b[1;32mc:\\Users\\39008\\Documents\\.school\\CS 305\\loremaster\\loremaster_app\\database\\table_declarations.py:44\u001b[0m, in \u001b[0;36mUser.__repr__\u001b[1;34m(self)\u001b[0m\n\u001b[0;32m     43\u001b[0m \u001b[39mdef\u001b[39;00m \u001b[39m__repr__\u001b[39m(\u001b[39mself\u001b[39m) \u001b[39m-\u001b[39m\u001b[39m>\u001b[39m \u001b[39mstr\u001b[39m:\n\u001b[1;32m---> 44\u001b[0m     \u001b[39mreturn\u001b[39;00m \u001b[39mf\u001b[39m\u001b[39m\"\u001b[39m\u001b[39mUser(name:\u001b[39m\u001b[39m{\u001b[39;00m\u001b[39mself\u001b[39m\u001b[39m.\u001b[39mname\u001b[39m}\u001b[39;00m\u001b[39m, id:\u001b[39m\u001b[39m{\u001b[39;00m\u001b[39mself\u001b[39m\u001b[39m.\u001b[39mid\u001b[39m}\u001b[39;00m\u001b[39m)\u001b[39m\u001b[39m\"\u001b[39m\n",
      "File \u001b[1;32mc:\\Users\\39008\\Documents\\.school\\CS 305\\loremaster\\.venv\\lib\\site-packages\\sqlalchemy\\orm\\attributes.py:482\u001b[0m, in \u001b[0;36mInstrumentedAttribute.__get__\u001b[1;34m(self, instance, owner)\u001b[0m\n\u001b[0;32m    477\u001b[0m \u001b[39mexcept\u001b[39;00m \u001b[39mAttributeError\u001b[39;00m \u001b[39mas\u001b[39;00m err:\n\u001b[0;32m    478\u001b[0m     util\u001b[39m.\u001b[39mraise_(\n\u001b[0;32m    479\u001b[0m         orm_exc\u001b[39m.\u001b[39mUnmappedInstanceError(instance),\n\u001b[0;32m    480\u001b[0m         replace_context\u001b[39m=\u001b[39merr,\n\u001b[0;32m    481\u001b[0m     )\n\u001b[1;32m--> 482\u001b[0m \u001b[39mreturn\u001b[39;00m \u001b[39mself\u001b[39;49m\u001b[39m.\u001b[39;49mimpl\u001b[39m.\u001b[39;49mget(state, dict_)\n",
      "File \u001b[1;32mc:\\Users\\39008\\Documents\\.school\\CS 305\\loremaster\\.venv\\lib\\site-packages\\sqlalchemy\\orm\\attributes.py:942\u001b[0m, in \u001b[0;36mAttributeImpl.get\u001b[1;34m(self, state, dict_, passive)\u001b[0m\n\u001b[0;32m    939\u001b[0m \u001b[39mif\u001b[39;00m \u001b[39mnot\u001b[39;00m passive \u001b[39m&\u001b[39m CALLABLES_OK:\n\u001b[0;32m    940\u001b[0m     \u001b[39mreturn\u001b[39;00m PASSIVE_NO_RESULT\n\u001b[1;32m--> 942\u001b[0m value \u001b[39m=\u001b[39m \u001b[39mself\u001b[39;49m\u001b[39m.\u001b[39;49m_fire_loader_callables(state, key, passive)\n\u001b[0;32m    944\u001b[0m \u001b[39mif\u001b[39;00m value \u001b[39mis\u001b[39;00m PASSIVE_NO_RESULT \u001b[39mor\u001b[39;00m value \u001b[39mis\u001b[39;00m NO_VALUE:\n\u001b[0;32m    945\u001b[0m     \u001b[39mreturn\u001b[39;00m value\n",
      "File \u001b[1;32mc:\\Users\\39008\\Documents\\.school\\CS 305\\loremaster\\.venv\\lib\\site-packages\\sqlalchemy\\orm\\attributes.py:973\u001b[0m, in \u001b[0;36mAttributeImpl._fire_loader_callables\u001b[1;34m(self, state, key, passive)\u001b[0m\n\u001b[0;32m    967\u001b[0m \u001b[39mdef\u001b[39;00m \u001b[39m_fire_loader_callables\u001b[39m(\u001b[39mself\u001b[39m, state, key, passive):\n\u001b[0;32m    968\u001b[0m     \u001b[39mif\u001b[39;00m (\n\u001b[0;32m    969\u001b[0m         \u001b[39mself\u001b[39m\u001b[39m.\u001b[39maccepts_scalar_loader\n\u001b[0;32m    970\u001b[0m         \u001b[39mand\u001b[39;00m \u001b[39mself\u001b[39m\u001b[39m.\u001b[39mload_on_unexpire\n\u001b[0;32m    971\u001b[0m         \u001b[39mand\u001b[39;00m key \u001b[39min\u001b[39;00m state\u001b[39m.\u001b[39mexpired_attributes\n\u001b[0;32m    972\u001b[0m     ):\n\u001b[1;32m--> 973\u001b[0m         \u001b[39mreturn\u001b[39;00m state\u001b[39m.\u001b[39;49m_load_expired(state, passive)\n\u001b[0;32m    974\u001b[0m     \u001b[39melif\u001b[39;00m key \u001b[39min\u001b[39;00m state\u001b[39m.\u001b[39mcallables:\n\u001b[0;32m    975\u001b[0m         callable_ \u001b[39m=\u001b[39m state\u001b[39m.\u001b[39mcallables[key]\n",
      "File \u001b[1;32mc:\\Users\\39008\\Documents\\.school\\CS 305\\loremaster\\.venv\\lib\\site-packages\\sqlalchemy\\orm\\state.py:712\u001b[0m, in \u001b[0;36mInstanceState._load_expired\u001b[1;34m(self, state, passive)\u001b[0m\n\u001b[0;32m    705\u001b[0m toload \u001b[39m=\u001b[39m \u001b[39mself\u001b[39m\u001b[39m.\u001b[39mexpired_attributes\u001b[39m.\u001b[39mintersection(\u001b[39mself\u001b[39m\u001b[39m.\u001b[39munmodified)\n\u001b[0;32m    706\u001b[0m toload \u001b[39m=\u001b[39m toload\u001b[39m.\u001b[39mdifference(\n\u001b[0;32m    707\u001b[0m     attr\n\u001b[0;32m    708\u001b[0m     \u001b[39mfor\u001b[39;00m attr \u001b[39min\u001b[39;00m toload\n\u001b[0;32m    709\u001b[0m     \u001b[39mif\u001b[39;00m \u001b[39mnot\u001b[39;00m \u001b[39mself\u001b[39m\u001b[39m.\u001b[39mmanager[attr]\u001b[39m.\u001b[39mimpl\u001b[39m.\u001b[39mload_on_unexpire\n\u001b[0;32m    710\u001b[0m )\n\u001b[1;32m--> 712\u001b[0m \u001b[39mself\u001b[39;49m\u001b[39m.\u001b[39;49mmanager\u001b[39m.\u001b[39;49mexpired_attribute_loader(\u001b[39mself\u001b[39;49m, toload, passive)\n\u001b[0;32m    714\u001b[0m \u001b[39m# if the loader failed, or this\u001b[39;00m\n\u001b[0;32m    715\u001b[0m \u001b[39m# instance state didn't have an identity,\u001b[39;00m\n\u001b[0;32m    716\u001b[0m \u001b[39m# the attributes still might be in the callables\u001b[39;00m\n\u001b[0;32m    717\u001b[0m \u001b[39m# dict.  ensure they are removed.\u001b[39;00m\n\u001b[0;32m    718\u001b[0m \u001b[39mself\u001b[39m\u001b[39m.\u001b[39mexpired_attributes\u001b[39m.\u001b[39mclear()\n",
      "File \u001b[1;32mc:\\Users\\39008\\Documents\\.school\\CS 305\\loremaster\\.venv\\lib\\site-packages\\sqlalchemy\\orm\\loading.py:1369\u001b[0m, in \u001b[0;36mload_scalar_attributes\u001b[1;34m(mapper, state, attribute_names, passive)\u001b[0m\n\u001b[0;32m   1367\u001b[0m session \u001b[39m=\u001b[39m state\u001b[39m.\u001b[39msession\n\u001b[0;32m   1368\u001b[0m \u001b[39mif\u001b[39;00m \u001b[39mnot\u001b[39;00m session:\n\u001b[1;32m-> 1369\u001b[0m     \u001b[39mraise\u001b[39;00m orm_exc\u001b[39m.\u001b[39mDetachedInstanceError(\n\u001b[0;32m   1370\u001b[0m         \u001b[39m\"\u001b[39m\u001b[39mInstance \u001b[39m\u001b[39m%s\u001b[39;00m\u001b[39m is not bound to a Session; \u001b[39m\u001b[39m\"\u001b[39m\n\u001b[0;32m   1371\u001b[0m         \u001b[39m\"\u001b[39m\u001b[39mattribute refresh operation cannot proceed\u001b[39m\u001b[39m\"\u001b[39m \u001b[39m%\u001b[39m (state_str(state))\n\u001b[0;32m   1372\u001b[0m     )\n\u001b[0;32m   1374\u001b[0m has_key \u001b[39m=\u001b[39m \u001b[39mbool\u001b[39m(state\u001b[39m.\u001b[39mkey)\n\u001b[0;32m   1376\u001b[0m result \u001b[39m=\u001b[39m \u001b[39mFalse\u001b[39;00m\n",
      "\u001b[1;31mDetachedInstanceError\u001b[0m: Instance <User at 0x217e56305e0> is not bound to a Session; attribute refresh operation cannot proceed (Background on this error at: https://sqlalche.me/e/14/bhk3)"
     ]
    }
   ],
   "source": [
    "print(user2)"
   ]
  },
  {
   "cell_type": "code",
   "execution_count": 22,
   "id": "9742fc25-c975-4fdd-8c8f-e29d499dd0ec",
   "metadata": {},
   "outputs": [
    {
     "data": {
      "text/plain": [
       "'meow'"
      ]
     },
     "execution_count": 22,
     "metadata": {},
     "output_type": "execute_result"
    }
   ],
   "source": [
    "user2.name"
   ]
  },
  {
   "cell_type": "code",
   "execution_count": 9,
   "id": "be0af251-19d7-4373-a8a5-c659a8405eae",
   "metadata": {},
   "outputs": [
    {
     "name": "stdout",
     "output_type": "stream",
     "text": [
      "None\n"
     ]
    }
   ],
   "source": [
    "print(loc.editable_id)"
   ]
  },
  {
   "cell_type": "code",
   "execution_count": 33,
   "id": "6220fae3-5358-4f48-b0fc-334defafe26e",
   "metadata": {},
   "outputs": [
    {
     "name": "stdout",
     "output_type": "stream",
     "text": [
      "None\n"
     ]
    }
   ],
   "source": [
    "from sqlalchemy import select\n",
    "user = None\n",
    "with Session.begin() as session:\n",
    "    loc = session.execute(select(Location)).scalars().first()\n",
    "    \n",
    "    print(loc.parent_locations)"
   ]
  },
  {
   "cell_type": "code",
   "execution_count": null,
   "id": "68e3ffff-ec13-4c01-9a36-8db568dac679",
   "metadata": {},
   "outputs": [],
   "source": []
  }
 ],
 "metadata": {
  "kernelspec": {
   "display_name": "Python 3.10.7 ('venv': venv)",
   "language": "python",
   "name": "python3"
  },
  "language_info": {
   "codemirror_mode": {
    "name": "ipython",
    "version": 3
   },
   "file_extension": ".py",
   "mimetype": "text/x-python",
   "name": "python",
   "nbconvert_exporter": "python",
   "pygments_lexer": "ipython3",
   "version": "3.10.7"
  },
  "vscode": {
   "interpreter": {
    "hash": "71a6b810f3eee1674480bd810b31c553d584dbfb3cef42f77b2b0f54c8f25ac3"
   }
  }
 },
 "nbformat": 4,
 "nbformat_minor": 5
}
